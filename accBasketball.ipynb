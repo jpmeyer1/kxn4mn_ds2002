{
  "nbformat": 4,
  "nbformat_minor": 0,
  "metadata": {
    "colab": {
      "provenance": []
    },
    "kernelspec": {
      "name": "python3",
      "display_name": "Python 3"
    },
    "language_info": {
      "name": "python"
    }
  },
  "cells": [
    {
      "cell_type": "code",
      "execution_count": 6,
      "metadata": {
        "id": "dSE2OGgCbdhF"
      },
      "outputs": [],
      "source": [
        "# 1a. Load the provided CSV file into a pandas DataFrame\n",
        "\n",
        "import pandas as pd\n",
        "\n",
        "acc_info = pd.read_csv('acc_players-2324F.csv', skiprows=1)"
      ]
    },
    {
      "cell_type": "code",
      "source": [
        "# 1b. Display the first 5 rows of the DataFrame\n",
        "\n",
        "print(acc_info.head())"
      ],
      "metadata": {
        "colab": {
          "base_uri": "https://localhost:8080/"
        },
        "id": "cbDfa5AxceA2",
        "outputId": "dcb774f9-d7c6-4c9e-d579-639c2b81f72e"
      },
      "execution_count": 7,
      "outputs": [
        {
          "output_type": "stream",
          "name": "stdout",
          "text": [
            "   Rk         Player Class Pos          School   G   MP  TRB  AST  STL  ...  \\\n",
            "0   1   Amaree Abram    SO   G    Georgia Tech  10  108   17   11    1  ...   \n",
            "1   2   Sola Adebisi    FR   F   Florida State   7    9    1    1    0  ...   \n",
            "2   3  Prince Aligbe    SO   F  Boston College  35  651  119   21   15  ...   \n",
            "3   4     Abe Atiyeh    SR   G  Boston College   4    6    0    0    0  ...   \n",
            "4   5    Zack Austin    JR   F      Pittsburgh  33  746  137   29   32  ...   \n",
            "\n",
            "   TOV  PF  PTS    FG%    2P%    3P%    FT%   PER   WS  BPM  \n",
            "0    9  10   34  0.262  0.318  0.200  0.615   4.1 -0.1 -6.4  \n",
            "1    1   1    2  0.500  0.500    NaN    NaN   3.5  0.0 -6.7  \n",
            "2   30  51  164  0.435  0.522  0.147  0.620   9.4  0.9 -1.3  \n",
            "3    1   0    3  0.333  0.000  1.000    NaN   1.1  0.0 -8.2  \n",
            "4   13  35  216  0.417  0.563  0.295  0.737  18.0  2.9  7.9  \n",
            "\n",
            "[5 rows x 21 columns]\n"
          ]
        }
      ]
    },
    {
      "cell_type": "code",
      "source": [
        "# 2a. Calculate the total points scored by all players combined\n",
        "\n",
        "sum_points = acc_info['PTS'].sum()\n",
        "print(sum_points)"
      ],
      "metadata": {
        "colab": {
          "base_uri": "https://localhost:8080/"
        },
        "id": "FX4HYvoY3X-_",
        "outputId": "4e97da54-f2f8-4948-b571-f825ed6a3651"
      },
      "execution_count": 8,
      "outputs": [
        {
          "output_type": "stream",
          "name": "stdout",
          "text": [
            "38411\n"
          ]
        }
      ]
    },
    {
      "cell_type": "code",
      "source": [
        "# 2b. Find the player who has played the most minutes\n",
        "\n",
        "max_mins = acc_info['MP'].max()\n",
        "player_max_mins = acc_info[acc_info['MP'] == max_mins]['Player']\n",
        "print(player_max_mins)"
      ],
      "metadata": {
        "colab": {
          "base_uri": "https://localhost:8080/"
        },
        "id": "qE-gpzli3v-O",
        "outputId": "57ca06b6-ec76-4fc5-e5c5-873677db601a"
      },
      "execution_count": 10,
      "outputs": [
        {
          "output_type": "stream",
          "name": "stdout",
          "text": [
            "135    Casey Morsell\n",
            "Name: Player, dtype: object\n"
          ]
        }
      ]
    },
    {
      "cell_type": "code",
      "source": [
        "# 2c. Identify the top 5 players in terms of total rebounds\n",
        "\n",
        "max_reb = acc_info['TRB'].nlargest(5)\n",
        "top_rbd_players = acc_info[acc_info['TRB'].isin(max_reb)]['Player']\n",
        "print(top_rbd_players)"
      ],
      "metadata": {
        "colab": {
          "base_uri": "https://localhost:8080/"
        },
        "id": "HSoNA6nB3zim",
        "outputId": "6b9a9ee0-1ceb-405a-ed52-23aea54e0997"
      },
      "execution_count": 11,
      "outputs": [
        {
          "output_type": "stream",
          "name": "stdout",
          "text": [
            "5        Armando Bacot\n",
            "44      Mohamed Diarra\n",
            "90     Harrison Ingram\n",
            "149      Norchad Omier\n",
            "178    Ian Schieffelin\n",
            "Name: Player, dtype: object\n"
          ]
        }
      ]
    },
    {
      "cell_type": "code",
      "source": [
        "# 3a. Create a new DataFrame containing only players who played more than 500 minutes\n",
        "\n",
        "players_500 = acc_info[acc_info['MP'] > 500]"
      ],
      "metadata": {
        "id": "Zu8-pa5L7ykD"
      },
      "execution_count": 14,
      "outputs": []
    },
    {
      "cell_type": "code",
      "source": [
        "# 3b. In new DataFrame, determine the player with the highest total assists\n",
        "\n",
        "max_ast = players_500['AST'].max()\n",
        "player_max_ast = players_500[players_500['AST'] == max_ast]['Player']\n",
        "print(player_max_ast)"
      ],
      "metadata": {
        "colab": {
          "base_uri": "https://localhost:8080/"
        },
        "id": "3cizrQml8Ima",
        "outputId": "35799537-d29d-4627-f639-4b68d1616f2b"
      },
      "execution_count": 15,
      "outputs": [
        {
          "output_type": "stream",
          "name": "stdout",
          "text": [
            "7    Reece Beekman\n",
            "Name: Player, dtype: object\n"
          ]
        }
      ]
    },
    {
      "cell_type": "code",
      "source": [
        "# 3c. Who are the top 3 assist leaders in the league?\n",
        "\n",
        "max_ast = acc_info['AST'].nlargest(3)\n",
        "top_ast_players = acc_info[acc_info['AST'].isin(max_ast)]['Player']\n",
        "print(top_ast_players)"
      ],
      "metadata": {
        "colab": {
          "base_uri": "https://localhost:8080/"
        },
        "id": "85KC-sGx8Q3K",
        "outputId": "fef9269f-9f97-402b-c809-efb8a1087d59"
      },
      "execution_count": 16,
      "outputs": [
        {
          "output_type": "stream",
          "name": "stdout",
          "text": [
            "7       Reece Beekman\n",
            "21      Elliot Cadeau\n",
            "215    Jaeden Zackery\n",
            "Name: Player, dtype: object\n"
          ]
        }
      ]
    },
    {
      "cell_type": "code",
      "source": [
        "# 3d. Who are the top 3 shot blockers?\n",
        "\n",
        "max_blk = acc_info['BLK'].nlargest(3)\n",
        "top_blk_players = acc_info[acc_info['BLK'].isin(max_blk)]['Player']\n",
        "print(top_blk_players)"
      ],
      "metadata": {
        "colab": {
          "base_uri": "https://localhost:8080/"
        },
        "id": "Spw9hwOi8VZy",
        "outputId": "2319f9b3-a391-4613-ca40-df0c31640ffd"
      },
      "execution_count": 17,
      "outputs": [
        {
          "output_type": "stream",
          "name": "stdout",
          "text": [
            "5      Armando Bacot\n",
            "51         Ryan Dunn\n",
            "157     Quinten Post\n",
            "Name: Player, dtype: object\n"
          ]
        }
      ]
    },
    {
      "cell_type": "code",
      "source": [
        "# 4a. Group the players by school and calculate the total points scored by each school\n",
        "\n",
        "school_points = acc_info.groupby('School')['PTS'].sum()\n",
        "print(school_points)"
      ],
      "metadata": {
        "colab": {
          "base_uri": "https://localhost:8080/"
        },
        "id": "wB4nFcdu-7mX",
        "outputId": "3baa0078-075a-462e-aa13-fde654149646"
      },
      "execution_count": 18,
      "outputs": [
        {
          "output_type": "stream",
          "name": "stdout",
          "text": [
            "School\n",
            "Boston College    2667\n",
            "Clemson           2785\n",
            "Duke              2830\n",
            "Florida State     2526\n",
            "Georgia Tech      2272\n",
            "Louisville        2304\n",
            "Miami (FL)        2424\n",
            "NC State          3101\n",
            "North Carolina    3032\n",
            "Notre Dame        2113\n",
            "Pittsburgh        2495\n",
            "Syracuse          2442\n",
            "Virginia          2140\n",
            "Virginia Tech     2547\n",
            "Wake Forest       2733\n",
            "Name: PTS, dtype: int64\n"
          ]
        }
      ]
    },
    {
      "cell_type": "code",
      "source": [
        "# 4b. Group the players by school and calculate the total assists for each team\n",
        "\n",
        "school_assists = acc_info.groupby('School')['AST'].sum()\n",
        "print(school_assists)"
      ],
      "metadata": {
        "colab": {
          "base_uri": "https://localhost:8080/"
        },
        "id": "OF0a39nh_D1p",
        "outputId": "50abc4b2-eda9-462f-c33c-d6179ba6a5e5"
      },
      "execution_count": 19,
      "outputs": [
        {
          "output_type": "stream",
          "name": "stdout",
          "text": [
            "School\n",
            "Boston College    509\n",
            "Clemson           533\n",
            "Duke              551\n",
            "Florida State     406\n",
            "Georgia Tech      425\n",
            "Louisville        356\n",
            "Miami (FL)        454\n",
            "NC State          536\n",
            "North Carolina    536\n",
            "Notre Dame        335\n",
            "Pittsburgh        452\n",
            "Syracuse          442\n",
            "Virginia          509\n",
            "Virginia Tech     514\n",
            "Wake Forest       429\n",
            "Name: AST, dtype: int64\n"
          ]
        }
      ]
    },
    {
      "cell_type": "code",
      "source": [
        "# 4c. Sort the schools by total points scored and display the top 3 schools\n",
        "\n",
        "top_3_schools = school_points.nlargest(3)\n",
        "print(top_3_schools)"
      ],
      "metadata": {
        "colab": {
          "base_uri": "https://localhost:8080/"
        },
        "id": "BtdI8fVS_I3v",
        "outputId": "2724397d-92e7-4987-9afc-dfa720cbd25a"
      },
      "execution_count": 21,
      "outputs": [
        {
          "output_type": "stream",
          "name": "stdout",
          "text": [
            "School\n",
            "NC State          3101\n",
            "North Carolina    3032\n",
            "Duke              2830\n",
            "Name: PTS, dtype: int64\n"
          ]
        }
      ]
    }
  ]
}