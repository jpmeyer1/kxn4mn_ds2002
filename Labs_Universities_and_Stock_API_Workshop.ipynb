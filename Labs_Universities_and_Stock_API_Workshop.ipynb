{
  "cells": [
    {
      "cell_type": "markdown",
      "metadata": {
        "id": "YHwTFoDB04MH"
      },
      "source": [
        "# Using API Calls in Python with JSON and DataFrames - University Data Example\n",
        "In this notebook, we will make API requests to the Hipolabs Universities API, parse the JSON response, and convert it into Pandas DataFrames for analysis and visualization."
      ],
      "id": "YHwTFoDB04MH"
    },
    {
      "cell_type": "markdown",
      "metadata": {
        "id": "CDPNEdDF04MJ"
      },
      "source": [
        "### Step 1: Making the API Call to Fetch University Data"
      ],
      "id": "CDPNEdDF04MJ"
    },
    {
      "cell_type": "code",
      "execution_count": null,
      "metadata": {
        "id": "pY6qqMVA04MJ"
      },
      "outputs": [],
      "source": [
        "import requests\n",
        "import json\n",
        "import pandas as pd\n",
        "\n",
        "# API endpoint for fetching universities\n",
        "url = \"http://universities.hipolabs.com/search?country=United%20States\"\n",
        "\n",
        "# Make the GET request\n",
        "response = requests.get(url)\n",
        "\n",
        "# Check the status code\n",
        "if response.status_code == 200:\n",
        "    print(\"API request successful!\")\n",
        "else:\n",
        "    print(f\"Failed to retrieve data: {response.status_code}\")"
      ],
      "id": "pY6qqMVA04MJ"
    },
    {
      "cell_type": "markdown",
      "metadata": {
        "id": "N7564Ydt04MK"
      },
      "source": [
        "### Step 2: Parsing the JSON Response"
      ],
      "id": "N7564Ydt04MK"
    },
    {
      "cell_type": "code",
      "execution_count": null,
      "metadata": {
        "id": "VnNhC0LN04MK"
      },
      "outputs": [],
      "source": [
        "# Parse the JSON response\n",
        "university_data = response.json()\n",
        "\n",
        "# Pretty-print the first university\n",
        "print(json.dumps(university_data[0], indent=2))"
      ],
      "id": "VnNhC0LN04MK"
    },
    {
      "cell_type": "markdown",
      "metadata": {
        "id": "LpvYuFhm04MK"
      },
      "source": [
        "### Step 3: Converting the JSON Data to a DataFrame"
      ],
      "id": "LpvYuFhm04MK"
    },
    {
      "cell_type": "code",
      "execution_count": null,
      "metadata": {
        "id": "6TXNwd7L04MK"
      },
      "outputs": [],
      "source": [
        "# Convert JSON data to a DataFrame\n",
        "df = pd.DataFrame(university_data)\n",
        "\n",
        "# Display the first few rows of the DataFrame\n",
        "print(df.head())\n",
        "df"
      ],
      "id": "6TXNwd7L04MK"
    },
    {
      "cell_type": "markdown",
      "metadata": {
        "id": "u_DHkVg004ML"
      },
      "source": [
        "### Step 4: Basic Data Analysis"
      ],
      "id": "u_DHkVg004ML"
    },
    {
      "cell_type": "code",
      "execution_count": null,
      "metadata": {
        "id": "ovs5UIKs04ML"
      },
      "outputs": [],
      "source": [
        "# Count the number of universities by state\n",
        "state_counts = df['state-province'].value_counts()\n",
        "print(state_counts)"
      ],
      "id": "ovs5UIKs04ML"
    },
    {
      "cell_type": "markdown",
      "metadata": {
        "id": "cAPYEMN304ML"
      },
      "source": [
        "### Step 5: Data Visualization"
      ],
      "id": "cAPYEMN304ML"
    },
    {
      "cell_type": "code",
      "execution_count": null,
      "metadata": {
        "id": "g7yUOl-804ML"
      },
      "outputs": [],
      "source": [
        "import matplotlib.pyplot as plt\n",
        "\n",
        "# Plot the number of universities per state\n",
        "state_counts.plot(kind='bar', figsize=(10, 6))\n",
        "plt.title(\"Number of Universities per State\")\n",
        "plt.xlabel(\"State\")\n",
        "plt.ylabel(\"Number of Universities\")\n",
        "plt.show()"
      ],
      "id": "g7yUOl-804ML"
    },
    {
      "cell_type": "markdown",
      "metadata": {
        "id": "WhSWvUWS04ML"
      },
      "source": [
        "### Step 6: Extending to Multiple Countries"
      ],
      "id": "WhSWvUWS04ML"
    },
    {
      "cell_type": "code",
      "execution_count": null,
      "metadata": {
        "id": "ctTMYEJp04ML"
      },
      "outputs": [],
      "source": [
        "countries = [\"United States\", \"Canada\", \"Australia\", \"United Kingdom\"]\n",
        "university_list = []\n",
        "\n",
        "for country in countries:\n",
        "    response = requests.get(f\"http://universities.hipolabs.com/search?country={country}\")\n",
        "    data = response.json()\n",
        "\n",
        "    for uni in data:\n",
        "        uni['country'] = country\n",
        "        university_list.append(uni)\n",
        "\n",
        "# Convert to DataFrame\n",
        "df_universities = pd.DataFrame(university_list)\n",
        "\n",
        "# Display the first few rows\n",
        "print(df_universities.head())"
      ],
      "id": "ctTMYEJp04ML"
    },
    {
      "cell_type": "markdown",
      "metadata": {
        "id": "PIgW1_1p04ML"
      },
      "source": [
        "### Step 7: Visualizing University Counts by Country"
      ],
      "id": "PIgW1_1p04ML"
    },
    {
      "cell_type": "code",
      "execution_count": null,
      "metadata": {
        "id": "TLQPcYvY04ML"
      },
      "outputs": [],
      "source": [
        "# Count the number of universities per country\n",
        "country_counts = df_universities['country'].value_counts()\n",
        "\n",
        "# Plot the data\n",
        "country_counts.plot(kind='bar', figsize=(10, 6))\n",
        "plt.title(\"Number of Universities per Country\")\n",
        "plt.xlabel(\"Country\")\n",
        "plt.ylabel(\"Number of Universities\")\n",
        "plt.show()"
      ],
      "id": "TLQPcYvY04ML"
    },
    {
      "cell_type": "markdown",
      "source": [
        "###Step 8: Customizing the Workshop\n",
        "\n",
        "You can experiment further by:\n",
        "\n",
        "\n",
        "\n",
        "*   Fetching data for specific regions.\n",
        "*   Analyzing other attributes such as university domains.\n",
        "*   Creating visualizations to compare universities in different regions.\n",
        "\n"
      ],
      "metadata": {
        "id": "b-dBnRNT1MQF"
      },
      "id": "b-dBnRNT1MQF"
    },
    {
      "cell_type": "markdown",
      "source": [
        "For the followig you will need to get your API key from  https://financeapi.net/\n",
        "Examine the demo page and sample data to be returned"
      ],
      "metadata": {
        "id": "iwD_LJNy2L7u"
      },
      "id": "iwD_LJNy2L7u"
    },
    {
      "cell_type": "code",
      "source": [
        "import json\n",
        "import pandas as pd\n",
        "import json\n",
        "import requests"
      ],
      "metadata": {
        "id": "80xOdsHQ2SzU"
      },
      "id": "80xOdsHQ2SzU",
      "execution_count": 1,
      "outputs": []
    },
    {
      "cell_type": "code",
      "source": [
        "#get stock from the user\n",
        "stock=input()"
      ],
      "metadata": {
        "id": "qdoW9lbM2Wes",
        "outputId": "3e73e1ed-338e-4799-9399-e25a76b677d2",
        "colab": {
          "base_uri": "https://localhost:8080/"
        }
      },
      "id": "qdoW9lbM2Wes",
      "execution_count": 18,
      "outputs": [
        {
          "name": "stdout",
          "output_type": "stream",
          "text": [
            "TSLA,NFLX\n"
          ]
        }
      ]
    },
    {
      "cell_type": "code",
      "source": [
        "print(\"The Stock we will research is:\" + stock)"
      ],
      "metadata": {
        "id": "Jb5ddkbl2YWF",
        "outputId": "a370023b-1fa7-4ba8-da91-03a853b32ba5",
        "colab": {
          "base_uri": "https://localhost:8080/"
        }
      },
      "id": "Jb5ddkbl2YWF",
      "execution_count": 19,
      "outputs": [
        {
          "output_type": "stream",
          "name": "stdout",
          "text": [
            "The Stock we will research is:TSLA,NFLX\n"
          ]
        }
      ]
    },
    {
      "cell_type": "code",
      "source": [
        "apikey=\"CRIQr1nXDE94rYcHCWl2O4PJOSo4lK6v3Vm4je8A\"\n",
        "\n",
        "url = \"https://yfapi.net/v6/finance/quote\"\n",
        "\n",
        "querystring = {\"symbols\":stock}\n",
        "\n",
        "headers = {\n",
        "    'x-api-key': apikey\n",
        "    }\n",
        "\n",
        "response = requests.request(\"GET\", url, headers=headers, params=querystring)\n",
        "\n",
        "print(response.text)"
      ],
      "metadata": {
        "id": "pFKgjZlO2atU",
        "outputId": "9be4804e-d304-46f2-ebbc-86c3973237c4",
        "colab": {
          "base_uri": "https://localhost:8080/"
        }
      },
      "id": "pFKgjZlO2atU",
      "execution_count": 20,
      "outputs": [
        {
          "output_type": "stream",
          "name": "stdout",
          "text": [
            "{\"quoteResponse\":{\"result\":[{\"language\":\"en-US\",\"region\":\"US\",\"quoteType\":\"EQUITY\",\"typeDisp\":\"Equity\",\"quoteSourceName\":\"Nasdaq Real Time Price\",\"triggerable\":true,\"customPriceAlertConfidence\":\"HIGH\",\"currency\":\"USD\",\"marketState\":\"POST\",\"exchange\":\"NMS\",\"shortName\":\"Tesla, Inc.\",\"longName\":\"Tesla, Inc.\",\"messageBoardId\":\"finmb_27444752\",\"exchangeTimezoneName\":\"America/New_York\",\"exchangeTimezoneShortName\":\"EDT\",\"gmtOffSetMilliseconds\":-14400000,\"market\":\"us_market\",\"esgPopulated\":false,\"regularMarketChangePercent\":2.4545631,\"regularMarketPrice\":260.46,\"postMarketChangePercent\":0.09675734,\"postMarketTime\":1727478024,\"postMarketPrice\":260.712,\"postMarketChange\":0.25201416,\"regularMarketChange\":6.23999,\"regularMarketTime\":1727467200,\"regularMarketDayHigh\":260.6999,\"regularMarketDayRange\":\"254.12 - 260.6999\",\"regularMarketDayLow\":254.12,\"regularMarketVolume\":70389017,\"regularMarketPreviousClose\":254.22,\"bid\":260.19,\"ask\":260.5,\"bidSize\":2,\"askSize\":1,\"fullExchangeName\":\"NasdaqGS\",\"financialCurrency\":\"USD\",\"regularMarketOpen\":257.375,\"averageDailyVolume3Month\":97132307,\"averageDailyVolume10Day\":76860870,\"fiftyTwoWeekLowChange\":121.65999,\"fiftyTwoWeekLowChangePercent\":0.8765129,\"fiftyTwoWeekRange\":\"138.8 - 271.0\",\"fiftyTwoWeekHighChange\":-10.540009,\"fiftyTwoWeekHighChangePercent\":-0.03889302,\"fiftyTwoWeekLow\":138.8,\"fiftyTwoWeekHigh\":271.0,\"fiftyTwoWeekChangePercent\":1.5985966,\"earningsTimestamp\":1721764800,\"earningsTimestampStart\":1729281600,\"earningsTimestampEnd\":1730145600,\"sharesOutstanding\":3194639872,\"bookValue\":20.81,\"fiftyDayAverage\":222.17,\"fiftyDayAverageChange\":38.289993,\"fiftyDayAverageChangePercent\":0.17234547,\"twoHundredDayAverage\":202.52565,\"twoHundredDayAverageChange\":57.93434,\"twoHundredDayAverageChangePercent\":0.2860593,\"marketCap\":832075857920,\"forwardPE\":84.019356,\"priceToBook\":12.516098,\"sourceInterval\":15,\"exchangeDataDelayedBy\":0,\"averageAnalystRating\":\"2.7 - Hold\",\"tradeable\":false,\"cryptoTradeable\":false,\"hasPrePostMarketData\":true,\"firstTradeDateMilliseconds\":1277818200000,\"priceHint\":2,\"earningsCallTimestampStart\":1721770200,\"earningsCallTimestampEnd\":1721770200,\"isEarningsDateEstimate\":true,\"trailingAnnualDividendRate\":0.0,\"trailingPE\":73.16292,\"trailingAnnualDividendYield\":0.0,\"epsTrailingTwelveMonths\":3.56,\"epsForward\":3.1,\"epsCurrentYear\":2.29,\"priceEpsCurrentYear\":113.73799,\"displayName\":\"Tesla\",\"symbol\":\"TSLA\"},{\"language\":\"en-US\",\"region\":\"US\",\"quoteType\":\"EQUITY\",\"typeDisp\":\"Equity\",\"quoteSourceName\":\"Nasdaq Real Time Price\",\"triggerable\":true,\"customPriceAlertConfidence\":\"HIGH\",\"currency\":\"USD\",\"marketState\":\"POST\",\"exchange\":\"NMS\",\"shortName\":\"Netflix, Inc.\",\"longName\":\"Netflix, Inc.\",\"messageBoardId\":\"finmb_32012\",\"exchangeTimezoneName\":\"America/New_York\",\"exchangeTimezoneShortName\":\"EDT\",\"gmtOffSetMilliseconds\":-14400000,\"market\":\"us_market\",\"esgPopulated\":false,\"regularMarketChangePercent\":-0.5734952,\"regularMarketPrice\":707.35,\"postMarketChangePercent\":-0.09542487,\"postMarketTime\":1727478017,\"postMarketPrice\":706.675,\"postMarketChange\":-0.6749878,\"regularMarketChange\":-4.080017,\"regularMarketTime\":1727467200,\"regularMarketDayHigh\":710.71,\"regularMarketDayRange\":\"701.2509 - 710.71\",\"regularMarketDayLow\":701.2509,\"regularMarketVolume\":2379736,\"regularMarketPreviousClose\":711.43,\"bid\":706.84,\"ask\":707.14,\"bidSize\":1,\"askSize\":1,\"fullExchangeName\":\"NasdaqGS\",\"financialCurrency\":\"USD\",\"regularMarketOpen\":708.43,\"averageDailyVolume3Month\":3184742,\"averageDailyVolume10Day\":2950970,\"fiftyTwoWeekLowChange\":362.61996,\"fiftyTwoWeekLowChangePercent\":1.0518955,\"fiftyTwoWeekRange\":\"344.73 - 725.26\",\"fiftyTwoWeekHighChange\":-17.910034,\"fiftyTwoWeekHighChangePercent\":-0.024694638,\"fiftyTwoWeekLow\":344.73,\"fiftyTwoWeekHigh\":725.26,\"fiftyTwoWeekChangePercent\":88.40836,\"earningsTimestamp\":1729195200,\"earningsTimestampStart\":1729195200,\"earningsTimestampEnd\":1729195200,\"sharesOutstanding\":429164992,\"bookValue\":51.525,\"fiftyDayAverage\":666.9762,\"fiftyDayAverageChange\":40.37378,\"fiftyDayAverageChangePercent\":0.060532562,\"twoHundredDayAverage\":609.39264,\"twoHundredDayAverageChange\":97.95734,\"twoHundredDayAverageChangePercent\":0.16074584,\"marketCap\":303569862656,\"forwardPE\":30.754347,\"priceToBook\":13.728287,\"sourceInterval\":15,\"exchangeDataDelayedBy\":0,\"averageAnalystRating\":\"2.1 - Buy\",\"tradeable\":false,\"cryptoTradeable\":false,\"hasPrePostMarketData\":true,\"firstTradeDateMilliseconds\":1022160600000,\"priceHint\":2,\"earningsCallTimestampStart\":1729197900,\"earningsCallTimestampEnd\":1729197900,\"isEarningsDateEstimate\":false,\"trailingAnnualDividendRate\":0.0,\"trailingPE\":44.18176,\"trailingAnnualDividendYield\":0.0,\"epsTrailingTwelveMonths\":16.01,\"epsForward\":23.0,\"epsCurrentYear\":19.11,\"priceEpsCurrentYear\":37.01465,\"displayName\":\"Netflix\",\"symbol\":\"NFLX\"}],\"error\":null}}\n"
          ]
        }
      ]
    },
    {
      "cell_type": "code",
      "source": [
        "#print the company name and price\n",
        "stock_json = response.json()\n",
        "print(stock_json['quoteResponse']['result'][0][\"longName\"] + \" Price:$\" + str(stock_json['quoteResponse']['result'][0][\"regularMarketPrice\"]), \"\\n\", stock_json['quoteResponse']['result'][1][\"longName\"] + \" Price:$\" + str(stock_json['quoteResponse']['result'][1][\"regularMarketPrice\"]))"
      ],
      "metadata": {
        "id": "SVJqBY7y2eSs",
        "outputId": "6bf81b60-3f1f-4164-f293-06bc3355b498",
        "colab": {
          "base_uri": "https://localhost:8080/"
        }
      },
      "id": "SVJqBY7y2eSs",
      "execution_count": 21,
      "outputs": [
        {
          "output_type": "stream",
          "name": "stdout",
          "text": [
            "Tesla, Inc. Price:$260.46 \n",
            " Netflix, Inc. Price:$707.35\n"
          ]
        }
      ]
    },
    {
      "cell_type": "markdown",
      "source": [
        "Ask the user for a list of stocks and pass that answer back to the user\n"
      ],
      "metadata": {
        "id": "9sqZZPI12leh"
      },
      "id": "9sqZZPI12leh"
    }
  ],
  "metadata": {
    "kernelspec": {
      "display_name": "Python 3",
      "language": "python",
      "name": "python3"
    },
    "language_info": {
      "codemirror_mode": {
        "name": "ipython",
        "version": 3
      },
      "file_extension": ".py",
      "mimetype": "text/x-python",
      "name": "python",
      "nbconvert_exporter": "python",
      "version": "3.8.10"
    },
    "colab": {
      "provenance": []
    }
  },
  "nbformat": 4,
  "nbformat_minor": 5
}