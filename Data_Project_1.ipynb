{
  "nbformat": 4,
  "nbformat_minor": 0,
  "metadata": {
    "colab": {
      "provenance": []
    },
    "kernelspec": {
      "name": "python3",
      "display_name": "Python 3"
    },
    "language_info": {
      "name": "python"
    }
  },
  "cells": [
    {
      "cell_type": "markdown",
      "source": [
        "# **Welcome to Data Project 1. This is an assignment for DS 2002: Data Science Systems**\n",
        "# This project has been completed by JP Meyer (kxn4mn) and Lily Rademacher (amn8ge)"
      ],
      "metadata": {
        "id": "GdquuP0XoA-S"
      }
    },
    {
      "cell_type": "markdown",
      "source": [
        "Start by downloading the following data sets as either a .csv or .geojson files by going to these links:\n",
        "\n",
        "Charlottesville Arrests: https://opendata.charlottesville.org/datasets/d558ab0e09fe4f509280bedf6f8793ed_22/explore\n",
        "\n",
        "Historical Fire Data: https://opendata.charlottesville.org/datasets/31093f4678b44cc38e0e8347b2336e44_32/explore\n",
        "\n",
        "**Ensure that these files have been imported into your Colab notebook file section before continuing!**\n",
        "- Before importing the .geojson files, rename them Arrests.json and Historical_Fire_Data.json. The code will not function correctly unless the file type has been changed to .json from .geojson"
      ],
      "metadata": {
        "id": "fpDgvIx4H3wS"
      }
    },
    {
      "cell_type": "markdown",
      "source": [
        "Import the necessary libraries."
      ],
      "metadata": {
        "id": "lMBjELRfi5v4"
      }
    },
    {
      "cell_type": "code",
      "source": [
        "import pandas as pd\n",
        "import csv\n",
        "import json\n",
        "\n",
        "!pip install SQLAlchemy\n",
        "from sqlalchemy import create_engine"
      ],
      "metadata": {
        "id": "qQtcXzMr7GDS",
        "colab": {
          "base_uri": "https://localhost:8080/"
        },
        "outputId": "98fbcd9f-8e05-4a14-93a0-4d576f262c4c"
      },
      "execution_count": null,
      "outputs": [
        {
          "output_type": "stream",
          "name": "stdout",
          "text": [
            "Requirement already satisfied: SQLAlchemy in /usr/local/lib/python3.10/dist-packages (2.0.36)\n",
            "Requirement already satisfied: typing-extensions>=4.6.0 in /usr/local/lib/python3.10/dist-packages (from SQLAlchemy) (4.12.2)\n",
            "Requirement already satisfied: greenlet!=0.4.17 in /usr/local/lib/python3.10/dist-packages (from SQLAlchemy) (3.1.1)\n"
          ]
        }
      ]
    },
    {
      "cell_type": "markdown",
      "source": [
        "Based on the user's input, the following code block downloads and reads the chosen file, imports the data into a pandas data frame, then reports the initial number of columns and records in that data frame."
      ],
      "metadata": {
        "id": "xkw7mfzAEerl"
      }
    },
    {
      "cell_type": "code",
      "source": [
        "import_type = input(\"What type of file are you importing? (csv, json, sql): \")\n",
        "\n",
        "if import_type == \"csv\":\n",
        "    # gets file name from user, then converts csv to data frame\n",
        "    file_name = input(\"Enter the name of the CSV file. Do not include the file type (e.g. '.csv'): \")\n",
        "    df = pd.read_csv(file_name + \".csv\")\n",
        "elif import_type == \"json\":\n",
        "    file_name = input(\"Enter the name of the JSON file: \")\n",
        "    try:\n",
        "        # both arrests and fire are originally .geojson files and have different\n",
        "        # formatting than .json files, so need to extract data and convert it\n",
        "        # to the same dictionary format as .json files have before being able to\n",
        "        # read and write to pandas df\n",
        "        with open(file_name + \".json\", 'r', encoding='utf-8') as f:\n",
        "            data = json.load(f)\n",
        "        features = data['features']\n",
        "        properties_list = [feature['properties'] for feature in features]\n",
        "        df = pd.DataFrame(properties_list)\n",
        "    except ValueError:\n",
        "        print(\"Error: Could not import with 'records' orient. Check JSON structure or try different orient options.\")\n",
        "elif import_type == \"sql\":\n",
        "    # reads sql database file and converts to data frame\n",
        "    db_name = input(\"Enter the name of the database: \")\n",
        "    table_name = input(\"Enter the name of the table: \")\n",
        "    df = pd.read_sql_table(table_name, db_name)\n",
        "\n",
        "# printing summary of data ingestion\n",
        "num_cols = len(df.columns)\n",
        "num_records = len(df)\n",
        "\n",
        "print(\"\\n\" + \"Your dataset, \" + file_name + \", has been imported.\")\n",
        "print(file_name, \"contains\", num_cols, \"columns and\", num_records, \"records.\")\n"
      ],
      "metadata": {
        "id": "qYilyfhsiUTM",
        "colab": {
          "base_uri": "https://localhost:8080/"
        },
        "outputId": "5c11a56e-748f-4a3c-ebd4-a263c96ba5a8"
      },
      "execution_count": null,
      "outputs": [
        {
          "output_type": "stream",
          "name": "stdout",
          "text": [
            "What type of file are you importing? (csv, json, sql): csv\n",
            "Enter the name of the CSV file. Do not include the file type (e.g. '.csv'): Historical_Fire_Data\n",
            "\n",
            "Your dataset, Historical_Fire_Data, has been imported.\n",
            "Historical_Fire_Data contains 18 columns and 2726 records.\n"
          ]
        }
      ]
    },
    {
      "cell_type": "markdown",
      "source": [
        "The following code block modifies the original files:\n",
        "- For the Charlottesville Arrests data, it removes the Statute and NameSuffix columns and filters out all entries where the arrestee is a woman.\n",
        "- For the Historical Fire data, it removes the latitude and longitude columns and filters entries so that only incidents lasting longer than 10 minutes are included.\n",
        "\n",
        "After these transformations, a post-processing assessment of the updated number of columns and records are printed.\n",
        "\n",
        "The first five entries in the data frame are also printed."
      ],
      "metadata": {
        "id": "xk6rEGnRFbKh"
      }
    },
    {
      "cell_type": "code",
      "source": [
        "if file_name == \"Arrests\":\n",
        "    # drop irrelevant cols, filter out women, update # of cols/recs\n",
        "    df = df.drop(columns=['Statute', 'NameSuffix'])\n",
        "    df = df[df['Sex'] != 'Female']\n",
        "\n",
        "    # printing data processing summary\n",
        "    new_num_cols = len(df.columns)\n",
        "    new_num_records = len(df)\n",
        "    print(\"After processing,\", file_name, \"now contains\", new_num_cols, \"columns and\", new_num_records, \"records.\")\n",
        "    print(\"\\n\",df.head())\n",
        "elif file_name == \"Historical_Fire_Data\":\n",
        "    # drop irrelevant cols, filter out short incidents, update # of cols/recs\n",
        "    df = df.drop(columns=['Latitude', 'Longitude'])\n",
        "    df = df[df['IncidentDurationMinutes'] > 10]\n",
        "\n",
        "    # printing data processing summary\n",
        "    new_num_cols = len(df.columns)\n",
        "    new_num_records = len(df)\n",
        "    print(\"After processing,\", file_name, \"now contains\", new_num_cols, \"columns and\", new_num_records, \"records.\")\n",
        "    print(\"\\n\",df.head())\n",
        "else:\n",
        "    # protecting for errors\n",
        "    print(\"Error: Incorrect Dataset Imported\")"
      ],
      "metadata": {
        "id": "dm6bL-jXm_U5",
        "colab": {
          "base_uri": "https://localhost:8080/"
        },
        "outputId": "46edece7-5aa4-47d5-ad09-6506b9ecc6c7"
      },
      "execution_count": null,
      "outputs": [
        {
          "output_type": "stream",
          "name": "stdout",
          "text": [
            "After processing, Historical_Fire_Data now contains 16 columns and 2480 records.\n",
            "\n",
            "   AddressStandardized  AlarmDateTimeAmericaNY            CauseOfIgnition  \\\n",
            "1       1014 RIDGE ST  2023/06/28 00:55:59+00              Unintentional   \n",
            "2        38 SPRING CT  2023/06/27 10:43:22+00                        NaN   \n",
            "3   1819 RIVER INN LN  2023/06/22 16:24:04+00                        NaN   \n",
            "4     637 OAK HILL CT  2023/06/17 05:17:59+00                        NaN   \n",
            "5     1404 MIDLAND ST  2023/06/14 19:04:02+00  Cause under investigation   \n",
            "\n",
            "                           FireAreaOfOrigin  \\\n",
            "1        Laundry area, wash house (laundry)   \n",
            "2                                       NaN   \n",
            "3                                       NaN   \n",
            "4                                       NaN   \n",
            "5  Highway, parking lot, street: on or near   \n",
            "\n",
            "                                FireType  \\\n",
            "1                          Building fire   \n",
            "2                          Building fire   \n",
            "3    Cooking fire, confined to container   \n",
            "4                          Building fire   \n",
            "5  Mobile property (vehicle) fire, other   \n",
            "\n",
            "                                          HeatSource  IncidentDurationMinutes  \\\n",
            "1  Radiated or conducted heat from operating equi...                     45.0   \n",
            "2                                                NaN                     94.0   \n",
            "3                                                NaN                     11.0   \n",
            "4                                                NaN                     91.0   \n",
            "5                                       Undetermined                     28.0   \n",
            "\n",
            "                                    ItemFirstIgnited  PropertyLossDollars  \\\n",
            "1  Dust, fiber, lint, including sawdust and excel...               7500.0   \n",
            "2                                                NaN                  0.0   \n",
            "3                                                NaN                  NaN   \n",
            "4                                                NaN              25000.0   \n",
            "5                                       Undetermined                  NaN   \n",
            "\n",
            "                                        PropertyUse UnitFirstArrive  \\\n",
            "1                              Multifamily dwelling              E5   \n",
            "2                              Multifamily dwelling              E1   \n",
            "3                            1 or 2 family dwelling              E1   \n",
            "4                            1 or 2 family dwelling             E10   \n",
            "5  Residential street, road or residential driveway              E5   \n",
            "\n",
            "   UnitFirstResponseTimeMinutes    Year  ZipCode  OBJECTID     IncidentID  \n",
            "1                           3.8  2023.0    22902         2  2023-00004909  \n",
            "2                           8.8  2023.0    22901         3  2023-00004894  \n",
            "3                           9.7  2023.0    22901         4  2023-00004744  \n",
            "4                           7.3  2023.0    22902         5  2023-00004596  \n",
            "5                           4.4  2023.0    22902         6  2023-00004513  \n"
          ]
        }
      ]
    },
    {
      "cell_type": "markdown",
      "source": [
        "The following code takes the user's chosen\n",
        "conversion type and converts the previously created data frame to the chosen format. Then, the new file is stored locally in the Colab notebook file section."
      ],
      "metadata": {
        "id": "CEHMRZQ-eGhw"
      }
    },
    {
      "cell_type": "code",
      "source": [
        "convert_type = input(f\"What would you like to convert {file_name}.{import_type} to? (csv, json, sql): \")\n",
        "\n",
        "if convert_type == import_type:\n",
        "    # protecting for errors\n",
        "    print(\"\\nError: You cannot convert a file to its current format. Please choose a different format.\")\n",
        "elif convert_type != import_type and convert_type == \"csv\":\n",
        "    # using the data frame to csv function\n",
        "    df.to_csv(file_name + \"_converted.csv\", index=False)\n",
        "    print(f\"\\nFile converted successfully to CSV as {file_name}_converted.csv!\")\n",
        "elif convert_type != import_type and convert_type == \"json\":\n",
        "    # using the data frame to json function\n",
        "    df.to_json(file_name + \"_converted.json\", orient=\"records\")\n",
        "    print(f\"\\nFile converted successfully to JSON as {file_name}_converted.json!\")\n",
        "elif convert_type != import_type and convert_type == \"sql\":\n",
        "    # converting df to SQL w/o querying SQL database or using a server by using\n",
        "    # in memory sqlite database and engine\n",
        "    engine = create_engine('sqlite:///' + file_name + '_converted.db', echo=False)\n",
        "\n",
        "    # converting w data frame to sql function\n",
        "    df.to_sql(file_name, con=engine, if_exists='replace', index=False)\n",
        "    print(f\"\\nFile converted successfully to SQL table as {file_name}_converted.db!\")\n",
        "else:\n",
        "    # protecting for errors\n",
        "    print(\"\\nError: Unsupported conversion type. Please choose 'csv', 'json', or 'sql'.\")"
      ],
      "metadata": {
        "colab": {
          "base_uri": "https://localhost:8080/"
        },
        "id": "-klnSow_JRTo",
        "outputId": "2072d1db-5073-4a31-c1b6-cdfffe7d3716"
      },
      "execution_count": null,
      "outputs": [
        {
          "output_type": "stream",
          "name": "stdout",
          "text": [
            "What would you like to convert Historical_Fire_Data.csv to? (csv, json, sql): sql\n",
            "\n",
            "File converted successfully to SQL table as Historical_Fire_Data_converted.db!\n"
          ]
        }
      ]
    }
  ]
}